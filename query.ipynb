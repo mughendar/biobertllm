{
 "cells": [
  {
   "cell_type": "code",
   "execution_count": 3,
   "metadata": {},
   "outputs": [
    {
     "name": "stdout",
     "output_type": "stream",
     "text": [
      "Index created successfully.\n"
     ]
    }
   ],
   "source": [
    "# # create_index.py\n",
    "# import os\n",
    "# from whoosh.index import create_in\n",
    "# from whoosh.fields import Schema, TEXT\n",
    "\n",
    "# # Paths\n",
    "# output_directory = \"C:\\\\Users\\\\ananya\\\\Desktop\\\\doctor\\\\ouput\\\\final_structure\"\n",
    "# index_dir = \"C:\\\\Users\\\\ananya\\\\Desktop\\\\doctor\\\\ouput\\\\whoosh_index\"\n",
    "\n",
    "# # Define schema for indexing\n",
    "# schema = Schema(file_path=TEXT(stored=True), content=TEXT)\n",
    "\n",
    "# # Function to create an index\n",
    "# def create_index(folder_path, index_directory):\n",
    "#     # Create an index directory\n",
    "#     if not os.path.exists(index_directory):\n",
    "#         os.mkdir(index_directory)\n",
    "\n",
    "#     # Create an index\n",
    "#     ix = create_in(index_directory, schema)\n",
    "#     writer = ix.writer()\n",
    "    \n",
    "#     for root, dirs, files in os.walk(folder_path):\n",
    "#         for file in files:\n",
    "#             if file.endswith(\".txt\"):\n",
    "#                 file_path = os.path.join(root, file)\n",
    "#                 with open(file_path, 'r', encoding='utf-8') as f:\n",
    "#                     content = f.read()\n",
    "#                     writer.add_document(file_path=file_path, content=content)\n",
    "    \n",
    "#     writer.commit()\n",
    "#     print(\"Index created successfully.\")\n",
    "\n",
    "# # Run the index creation\n",
    "# if __name__ == \"__main__\":\n",
    "#     create_index(output_directory, index_dir)\n"
   ]
  },
  {
   "cell_type": "code",
   "execution_count": 9,
   "metadata": {},
   "outputs": [
    {
     "name": "stdout",
     "output_type": "stream",
     "text": [
      "Disease 'asthma' found in the following files:\n",
      "- C:\\Users\\ananya\\Desktop\\doctor\\ouput\\final_structure\\System_Specific_and_Related_Disorders\\Respiratory_System_Disorders\\chapter_283.txt\n",
      "- C:\\Users\\ananya\\Desktop\\doctor\\ouput\\final_structure\\System_Specific_and_Related_Disorders\\Respiratory_System_Disorders\\chapter_284.txt\n",
      "- C:\\Users\\ananya\\Desktop\\doctor\\ouput\\final_structure\\Symptom-Based (13-64)\\Respiratory and Cardiovascular Symptoms\\chapter_038.txt\n",
      "- C:\\Users\\ananya\\Desktop\\doctor\\ouput\\final_structure\\System_Specific_and_Related_Disorders\\Respiratory_System_Disorders\\chapter_281.txt\n",
      "- C:\\Users\\ananya\\Desktop\\doctor\\ouput\\final_structure\\System_Specific_and_Related_Disorders\\Respiratory_System_Disorders\\chapter_285.txt\n",
      "- C:\\Users\\ananya\\Desktop\\doctor\\ouput\\final_structure\\System_Specific_and_Related_Disorders\\Immune_System_and_Rheumatologic_Disorders\\chapter_348.txt\n",
      "- C:\\Users\\ananya\\Desktop\\doctor\\ouput\\final_structure\\Symptom-Based (13-64)\\Respiratory and Cardiovascular Symptoms\\chapter_037.txt\n",
      "- C:\\Users\\ananya\\Desktop\\doctor\\ouput\\final_structure\\System_Specific_and_Related_Disorders\\Respiratory_System_Disorders\\chapter_295.txt\n",
      "- C:\\Users\\ananya\\Desktop\\doctor\\ouput\\final_structure\\Infectious Diseases (117-232)\\Fungal Infections\\chapter_215.txt\n",
      "- C:\\Users\\ananya\\Desktop\\doctor\\ouput\\final_structure\\System_Specific_and_Related_Disorders\\Respiratory_System_Disorders\\chapter_288.txt\n"
     ]
    }
   ],
   "source": [
    "# search_disease.py\n",
    "import os\n",
    "from whoosh.index import open_dir\n",
    "from whoosh.qparser import QueryParser\n",
    "\n",
    "# Paths\n",
    "index_dir = \"C:\\\\Users\\\\ananya\\\\Desktop\\\\doctor\\\\ouput\\\\whoosh_index\"\n",
    "\n",
    "# Function to search for a disease using Whoosh\n",
    "def search_disease_with_whoosh(disease_name, index_directory):\n",
    "    ix = open_dir(index_directory)\n",
    "    with ix.searcher() as searcher:\n",
    "        query = QueryParser(\"content\", ix.schema).parse(disease_name)\n",
    "        results = searcher.search(query)\n",
    "        return [result['file_path'] for result in results]\n",
    "\n",
    "# Example usage\n",
    "if __name__ == \"__main__\":\n",
    "    disease_to_search = input(\"Enter the disease to search for: \")\n",
    "    result_files = search_disease_with_whoosh(disease_to_search, index_dir)\n",
    "\n",
    "    if result_files:\n",
    "        print(f\"Disease '{disease_to_search}' found in the following files:\")\n",
    "        for file_path in result_files:\n",
    "            print(f\"- {file_path}\")  # Print each file path on a new line with a bullet point\n",
    "    else:\n",
    "        print(f\"Disease '{disease_to_search}' not found in any file.\")\n"
   ]
  },
  {
   "cell_type": "code",
   "execution_count": null,
   "metadata": {},
   "outputs": [],
   "source": []
  },
  {
   "cell_type": "code",
   "execution_count": 1,
   "metadata": {},
   "outputs": [
    {
     "name": "stdout",
     "output_type": "stream",
     "text": [
      "Index created successfully.\n"
     ]
    }
   ],
   "source": [
    "# # create_index.py\n",
    "# import os\n",
    "# from whoosh.index import create_in\n",
    "# from whoosh.fields import Schema, TEXT, ID\n",
    "\n",
    "# # Paths\n",
    "# output_directory = \"C:\\\\Users\\\\ananya\\\\Desktop\\\\doctor\\\\ouput\\\\final_structure\"\n",
    "# index_dir = \"C:\\\\Users\\\\ananya\\\\Desktop\\\\doctor\\\\ouput\\\\whoosh_index\"\n",
    "\n",
    "# # Define schema for indexing\n",
    "# # Use 'ID' for 'file_path' since it's unique and should be stored\n",
    "# schema = Schema(file_path=ID(stored=True, unique=True), content=TEXT)\n",
    "\n",
    "# # Function to create an index\n",
    "# def create_index(folder_path, index_directory):\n",
    "#     # Create an index directory if it doesn't exist\n",
    "#     if not os.path.exists(index_directory):\n",
    "#         os.mkdir(index_directory)\n",
    "\n",
    "#     # Create an index\n",
    "#     ix = create_in(index_directory, schema)\n",
    "#     writer = ix.writer()\n",
    "    \n",
    "#     # Walk through the folder structure and index each .txt file\n",
    "#     for root, dirs, files in os.walk(folder_path):\n",
    "#         for file in files:\n",
    "#             if file.endswith(\".txt\"):\n",
    "#                 file_path = os.path.join(root, file)\n",
    "#                 with open(file_path, 'r', encoding='utf-8') as f:\n",
    "#                     content = f.read()\n",
    "#                     # Add the document to the index with file path and content\n",
    "#                     writer.add_document(file_path=file_path, content=content)\n",
    "    \n",
    "#     # Commit the writer to save the index\n",
    "#     writer.commit()\n",
    "#     print(\"Index created successfully.\")\n",
    "\n",
    "# # Run the index creation\n",
    "# if __name__ == \"__main__\":\n",
    "#     create_index(output_directory, index_dir)\n"
   ]
  },
  {
   "cell_type": "code",
   "execution_count": 3,
   "metadata": {},
   "outputs": [],
   "source": [
    "from whoosh.fields import Schema, TEXT, ID\n",
    "from whoosh.index import create_in\n",
    "import os\n",
    "\n",
    "# Define a schema including the 'path' field\n",
    "schema = Schema(path=ID(stored=True), content=TEXT(stored=True))\n",
    "\n",
    "# Directory where the index will be stored\n",
    "index_dir = \"C:\\\\Users\\\\ananya\\\\Desktop\\\\doctor\\\\ouput\\\\index\"\n",
    "\n",
    "# Create the index directory if it doesn't exist\n",
    "if not os.path.exists(index_dir):\n",
    "    os.mkdir(index_dir)\n",
    "\n",
    "# Create the index\n",
    "ix = create_in(index_dir, schema)\n",
    "\n",
    "# Sample indexing of files\n",
    "def add_files_to_index(ix, folder_path):\n",
    "    writer = ix.writer()\n",
    "    \n",
    "    for root, dirs, files in os.walk(folder_path):\n",
    "        for filename in files:\n",
    "            file_path = os.path.join(root, filename)\n",
    "            with open(file_path, \"r\", encoding=\"utf-8\") as f:\n",
    "                content = f.read()\n",
    "                writer.add_document(path=file_path, content=content)\n",
    "    \n",
    "    writer.commit()\n",
    "\n",
    "# Index the folder containing the files \n",
    "add_files_to_index(ix, \"C:\\\\Users\\\\ananya\\\\Desktop\\\\doctor\\\\ouput\\\\final_structure\")\n"
   ]
  }
 ],
 "metadata": {
  "kernelspec": {
   "display_name": "Python 3",
   "language": "python",
   "name": "python3"
  },
  "language_info": {
   "codemirror_mode": {
    "name": "ipython",
    "version": 3
   },
   "file_extension": ".py",
   "mimetype": "text/x-python",
   "name": "python",
   "nbconvert_exporter": "python",
   "pygments_lexer": "ipython3",
   "version": "3.12.7"
  }
 },
 "nbformat": 4,
 "nbformat_minor": 2
}
